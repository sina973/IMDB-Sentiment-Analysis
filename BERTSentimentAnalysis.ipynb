{
  "cells": [
    {
      "cell_type": "code",
      "execution_count": null,
      "metadata": {
        "colab": {
          "base_uri": "https://localhost:8080/"
        },
        "id": "I_rcA6UJEKXA",
        "outputId": "4bfc2f22-af45-4bd4-a4e2-a9eabdfa02b0"
      },
      "outputs": [
        {
          "name": "stdout",
          "output_type": "stream",
          "text": [
            "Drive already mounted at /content/drive; to attempt to forcibly remount, call drive.mount(\"/content/drive\", force_remount=True).\n"
          ]
        }
      ],
      "source": [
        "from google.colab import drive\n",
        "drive.mount('/content/drive')"
      ]
    },
    {
      "cell_type": "markdown",
      "metadata": {
        "id": "ord_9mG6GJ_t"
      },
      "source": [
        "Library"
      ]
    },
    {
      "cell_type": "code",
      "execution_count": null,
      "metadata": {
        "colab": {
          "base_uri": "https://localhost:8080/"
        },
        "id": "4O3l8613Gxku",
        "outputId": "64f25333-d241-461e-95a6-1e3e93dbb6e7"
      },
      "outputs": [
        {
          "name": "stdout",
          "output_type": "stream",
          "text": [
            "Requirement already satisfied: tensorflow_text in /usr/local/lib/python3.7/dist-packages (2.8.2)\n",
            "Requirement already satisfied: tensorflow-hub>=0.8.0 in /usr/local/lib/python3.7/dist-packages (from tensorflow_text) (0.12.0)\n",
            "Requirement already satisfied: tensorflow<2.9,>=2.8.0 in /usr/local/lib/python3.7/dist-packages (from tensorflow_text) (2.8.0)\n",
            "Requirement already satisfied: tensorboard<2.9,>=2.8 in /usr/local/lib/python3.7/dist-packages (from tensorflow<2.9,>=2.8.0->tensorflow_text) (2.8.0)\n",
            "Requirement already satisfied: tensorflow-io-gcs-filesystem>=0.23.1 in /usr/local/lib/python3.7/dist-packages (from tensorflow<2.9,>=2.8.0->tensorflow_text) (0.24.0)\n",
            "Requirement already satisfied: libclang>=9.0.1 in /usr/local/lib/python3.7/dist-packages (from tensorflow<2.9,>=2.8.0->tensorflow_text) (13.0.0)\n",
            "Requirement already satisfied: flatbuffers>=1.12 in /usr/local/lib/python3.7/dist-packages (from tensorflow<2.9,>=2.8.0->tensorflow_text) (2.0)\n",
            "Requirement already satisfied: wrapt>=1.11.0 in /usr/local/lib/python3.7/dist-packages (from tensorflow<2.9,>=2.8.0->tensorflow_text) (1.14.0)\n",
            "Requirement already satisfied: grpcio<2.0,>=1.24.3 in /usr/local/lib/python3.7/dist-packages (from tensorflow<2.9,>=2.8.0->tensorflow_text) (1.44.0)\n",
            "Requirement already satisfied: opt-einsum>=2.3.2 in /usr/local/lib/python3.7/dist-packages (from tensorflow<2.9,>=2.8.0->tensorflow_text) (3.3.0)\n",
            "Requirement already satisfied: numpy>=1.20 in /usr/local/lib/python3.7/dist-packages (from tensorflow<2.9,>=2.8.0->tensorflow_text) (1.21.6)\n",
            "Requirement already satisfied: gast>=0.2.1 in /usr/local/lib/python3.7/dist-packages (from tensorflow<2.9,>=2.8.0->tensorflow_text) (0.5.3)\n",
            "Requirement already satisfied: setuptools in /usr/local/lib/python3.7/dist-packages (from tensorflow<2.9,>=2.8.0->tensorflow_text) (57.4.0)\n",
            "Requirement already satisfied: six>=1.12.0 in /usr/local/lib/python3.7/dist-packages (from tensorflow<2.9,>=2.8.0->tensorflow_text) (1.15.0)\n",
            "Requirement already satisfied: tf-estimator-nightly==2.8.0.dev2021122109 in /usr/local/lib/python3.7/dist-packages (from tensorflow<2.9,>=2.8.0->tensorflow_text) (2.8.0.dev2021122109)\n",
            "Requirement already satisfied: absl-py>=0.4.0 in /usr/local/lib/python3.7/dist-packages (from tensorflow<2.9,>=2.8.0->tensorflow_text) (1.0.0)\n",
            "Requirement already satisfied: keras-preprocessing>=1.1.1 in /usr/local/lib/python3.7/dist-packages (from tensorflow<2.9,>=2.8.0->tensorflow_text) (1.1.2)\n",
            "Requirement already satisfied: google-pasta>=0.1.1 in /usr/local/lib/python3.7/dist-packages (from tensorflow<2.9,>=2.8.0->tensorflow_text) (0.2.0)\n",
            "Requirement already satisfied: termcolor>=1.1.0 in /usr/local/lib/python3.7/dist-packages (from tensorflow<2.9,>=2.8.0->tensorflow_text) (1.1.0)\n",
            "Requirement already satisfied: keras<2.9,>=2.8.0rc0 in /usr/local/lib/python3.7/dist-packages (from tensorflow<2.9,>=2.8.0->tensorflow_text) (2.8.0)\n",
            "Requirement already satisfied: protobuf>=3.9.2 in /usr/local/lib/python3.7/dist-packages (from tensorflow<2.9,>=2.8.0->tensorflow_text) (3.17.3)\n",
            "Requirement already satisfied: h5py>=2.9.0 in /usr/local/lib/python3.7/dist-packages (from tensorflow<2.9,>=2.8.0->tensorflow_text) (3.1.0)\n",
            "Requirement already satisfied: typing-extensions>=3.6.6 in /usr/local/lib/python3.7/dist-packages (from tensorflow<2.9,>=2.8.0->tensorflow_text) (4.1.1)\n",
            "Requirement already satisfied: astunparse>=1.6.0 in /usr/local/lib/python3.7/dist-packages (from tensorflow<2.9,>=2.8.0->tensorflow_text) (1.6.3)\n",
            "Requirement already satisfied: wheel<1.0,>=0.23.0 in /usr/local/lib/python3.7/dist-packages (from astunparse>=1.6.0->tensorflow<2.9,>=2.8.0->tensorflow_text) (0.37.1)\n",
            "Requirement already satisfied: cached-property in /usr/local/lib/python3.7/dist-packages (from h5py>=2.9.0->tensorflow<2.9,>=2.8.0->tensorflow_text) (1.5.2)\n",
            "Requirement already satisfied: tensorboard-data-server<0.7.0,>=0.6.0 in /usr/local/lib/python3.7/dist-packages (from tensorboard<2.9,>=2.8->tensorflow<2.9,>=2.8.0->tensorflow_text) (0.6.1)\n",
            "Requirement already satisfied: google-auth<3,>=1.6.3 in /usr/local/lib/python3.7/dist-packages (from tensorboard<2.9,>=2.8->tensorflow<2.9,>=2.8.0->tensorflow_text) (1.35.0)\n",
            "Requirement already satisfied: google-auth-oauthlib<0.5,>=0.4.1 in /usr/local/lib/python3.7/dist-packages (from tensorboard<2.9,>=2.8->tensorflow<2.9,>=2.8.0->tensorflow_text) (0.4.6)\n",
            "Requirement already satisfied: werkzeug>=0.11.15 in /usr/local/lib/python3.7/dist-packages (from tensorboard<2.9,>=2.8->tensorflow<2.9,>=2.8.0->tensorflow_text) (1.0.1)\n",
            "Requirement already satisfied: tensorboard-plugin-wit>=1.6.0 in /usr/local/lib/python3.7/dist-packages (from tensorboard<2.9,>=2.8->tensorflow<2.9,>=2.8.0->tensorflow_text) (1.8.1)\n",
            "Requirement already satisfied: markdown>=2.6.8 in /usr/local/lib/python3.7/dist-packages (from tensorboard<2.9,>=2.8->tensorflow<2.9,>=2.8.0->tensorflow_text) (3.3.6)\n",
            "Requirement already satisfied: requests<3,>=2.21.0 in /usr/local/lib/python3.7/dist-packages (from tensorboard<2.9,>=2.8->tensorflow<2.9,>=2.8.0->tensorflow_text) (2.23.0)\n",
            "Requirement already satisfied: pyasn1-modules>=0.2.1 in /usr/local/lib/python3.7/dist-packages (from google-auth<3,>=1.6.3->tensorboard<2.9,>=2.8->tensorflow<2.9,>=2.8.0->tensorflow_text) (0.2.8)\n",
            "Requirement already satisfied: rsa<5,>=3.1.4 in /usr/local/lib/python3.7/dist-packages (from google-auth<3,>=1.6.3->tensorboard<2.9,>=2.8->tensorflow<2.9,>=2.8.0->tensorflow_text) (4.8)\n",
            "Requirement already satisfied: cachetools<5.0,>=2.0.0 in /usr/local/lib/python3.7/dist-packages (from google-auth<3,>=1.6.3->tensorboard<2.9,>=2.8->tensorflow<2.9,>=2.8.0->tensorflow_text) (4.2.4)\n",
            "Requirement already satisfied: requests-oauthlib>=0.7.0 in /usr/local/lib/python3.7/dist-packages (from google-auth-oauthlib<0.5,>=0.4.1->tensorboard<2.9,>=2.8->tensorflow<2.9,>=2.8.0->tensorflow_text) (1.3.1)\n",
            "Requirement already satisfied: importlib-metadata>=4.4 in /usr/local/lib/python3.7/dist-packages (from markdown>=2.6.8->tensorboard<2.9,>=2.8->tensorflow<2.9,>=2.8.0->tensorflow_text) (4.11.3)\n",
            "Requirement already satisfied: zipp>=0.5 in /usr/local/lib/python3.7/dist-packages (from importlib-metadata>=4.4->markdown>=2.6.8->tensorboard<2.9,>=2.8->tensorflow<2.9,>=2.8.0->tensorflow_text) (3.8.0)\n",
            "Requirement already satisfied: pyasn1<0.5.0,>=0.4.6 in /usr/local/lib/python3.7/dist-packages (from pyasn1-modules>=0.2.1->google-auth<3,>=1.6.3->tensorboard<2.9,>=2.8->tensorflow<2.9,>=2.8.0->tensorflow_text) (0.4.8)\n",
            "Requirement already satisfied: urllib3!=1.25.0,!=1.25.1,<1.26,>=1.21.1 in /usr/local/lib/python3.7/dist-packages (from requests<3,>=2.21.0->tensorboard<2.9,>=2.8->tensorflow<2.9,>=2.8.0->tensorflow_text) (1.24.3)\n",
            "Requirement already satisfied: chardet<4,>=3.0.2 in /usr/local/lib/python3.7/dist-packages (from requests<3,>=2.21.0->tensorboard<2.9,>=2.8->tensorflow<2.9,>=2.8.0->tensorflow_text) (3.0.4)\n",
            "Requirement already satisfied: certifi>=2017.4.17 in /usr/local/lib/python3.7/dist-packages (from requests<3,>=2.21.0->tensorboard<2.9,>=2.8->tensorflow<2.9,>=2.8.0->tensorflow_text) (2021.10.8)\n",
            "Requirement already satisfied: idna<3,>=2.5 in /usr/local/lib/python3.7/dist-packages (from requests<3,>=2.21.0->tensorboard<2.9,>=2.8->tensorflow<2.9,>=2.8.0->tensorflow_text) (2.10)\n",
            "Requirement already satisfied: oauthlib>=3.0.0 in /usr/local/lib/python3.7/dist-packages (from requests-oauthlib>=0.7.0->google-auth-oauthlib<0.5,>=0.4.1->tensorboard<2.9,>=2.8->tensorflow<2.9,>=2.8.0->tensorflow_text) (3.2.0)\n"
          ]
        }
      ],
      "source": [
        "!pip install tensorflow_text"
      ]
    },
    {
      "cell_type": "code",
      "execution_count": null,
      "metadata": {
        "id": "nBo9qCPG72Ut"
      },
      "outputs": [],
      "source": [
        "!pip install -q tf-models-official==2.7.0"
      ]
    },
    {
      "cell_type": "code",
      "execution_count": null,
      "metadata": {
        "id": "rGNOaqiBF_e-"
      },
      "outputs": [],
      "source": [
        "import os\n",
        "import shutil\n",
        "\n",
        "import tensorflow as tf\n",
        "import tensorflow_hub as hub\n",
        "import tensorflow_text as text\n",
        "from official.nlp import optimization  # to create AdamW optimizer\n",
        "\n",
        "import matplotlib.pyplot as plt\n",
        "\n",
        "tf.get_logger().setLevel('ERROR')"
      ]
    },
    {
      "cell_type": "markdown",
      "metadata": {
        "id": "xPMBjWo4G931"
      },
      "source": [
        "read data"
      ]
    },
    {
      "cell_type": "code",
      "execution_count": null,
      "metadata": {
        "colab": {
          "base_uri": "https://localhost:8080/"
        },
        "id": "Ygpblhdh8Elp",
        "outputId": "04e86bd3-a6ce-4d01-e35d-f818bf8da9c7"
      },
      "outputs": [
        {
          "name": "stdout",
          "output_type": "stream",
          "text": [
            "Found 2000 files belonging to 1 classes.\n",
            "Using 1600 files for training.\n",
            "Found 2000 files belonging to 1 classes.\n",
            "Using 400 files for validation.\n",
            "Found 2000 files belonging to 1 classes.\n"
          ]
        }
      ],
      "source": [
        "AUTOTUNE = tf.data.AUTOTUNE\n",
        "batch_size = 32\n",
        "seed = 42\n",
        "url_dataset = '/content/drive/MyDrive/review_polarity'\n",
        "raw_train_ds = tf.keras.utils.text_dataset_from_directory(\n",
        "    url_dataset,\n",
        "    batch_size=batch_size,\n",
        "    validation_split=0.2,\n",
        "    subset='training',\n",
        "    seed=seed)\n",
        "\n",
        "class_names = raw_train_ds.class_names\n",
        "train_ds = raw_train_ds.cache().prefetch(buffer_size=AUTOTUNE)\n",
        "\n",
        "val_ds = tf.keras.utils.text_dataset_from_directory(\n",
        "    url_dataset,\n",
        "    batch_size=batch_size,\n",
        "    validation_split=0.2,\n",
        "    subset='validation',\n",
        "    seed=seed)\n",
        "\n",
        "val_ds = val_ds.cache().prefetch(buffer_size=AUTOTUNE)\n",
        "\n",
        "test_ds = tf.keras.utils.text_dataset_from_directory(\n",
        "    url_dataset,\n",
        "    batch_size=batch_size)\n",
        "\n",
        "test_ds = test_ds.cache().prefetch(buffer_size=AUTOTUNE)"
      ]
    },
    {
      "cell_type": "markdown",
      "metadata": {
        "id": "R9VhBW0iH7U8"
      },
      "source": [
        "Preprocessing"
      ]
    },
    {
      "cell_type": "code",
      "execution_count": null,
      "metadata": {
        "colab": {
          "base_uri": "https://localhost:8080/"
        },
        "id": "I9qJaZY-82t4",
        "outputId": "df459705-f8bb-46b9-eb19-822c72ae67c5"
      },
      "outputs": [
        {
          "name": "stdout",
          "output_type": "stream",
          "text": [
            "Review: b'tibet has entered the american consciousness slowly during the past few years and burst into the forefront recently . \\nthe dalai lama has made speaking tours , tibetan designs and artifacts are showing up in shops , the plight of the people has captured the imagination of major actors and artists and now there are two big budget films within as many months . \\n \" kundun \" ( \" presence \" , a name the monks call the young dalai lama ) opens in 1937 with the search for the 14th incarnation of the tibetan leader . \\na group of monks enters a village and a two-year-old child catches their attention . \\nthe young boy proves himself by identifying possessions of the previous holy man as \" mine \" . \\nhe and his family are then moved to a monastery in lhassa where he is to be prepared to take his position as the religious and political leader of the country . \\nhe is forced into difficult decisions when china invades the country in 1950 . \\nthe peaceful and isolated country is ill-equipped to fight off the intruders and diplomatic attempts over the next years yield no results . \\neventually he must make the painful choice to flee to neighboring india . \\ncomparisons to \" seven years in tibet \" are inevitable . \\nboth films cover much of the same ground although the earlier movie does so from a westerner\\'s point of view and features boxoffice draw brad pitt . \\n \" kundun \" features only native actors and is more of an insider\\'s story . \\nin some ways , this makes this film a superior concept , but it lacks the movement and spark that made \" seven years \" such an audience-pleaser . \\nthe actors contribute to the realistic feel of the movie ( filmed in morocco for obvious reasons ) . \\nthe only disappointment is chairman mao who looks like a wax dummy and moves as if he were a computer-generated character . \\non an intellectual level , it is interesting to see how two different approaches handle the same facts . \\nsome events are depicted differently and pitt\\'s austrian mountain-climber who was portrayed as a pivotal influence in the dalai lama\\'s life isn\\'t even mentioned here . \\nglossed over in \" seven years \" , the problems with the tibetan political system is hinted at here as the dalai lama muses \" we were just about to change things \" after the chinese attack . \\nthe film is magnificently beautiful thanks primarily to the cinematography of roger deakins . \\nhis lingering camera shows the exotic tibetan culture with luscious detail . \\nespecially striking is an extreme moving close up of a sand mandala grain by grain . \\nthe visual treats more than make up for the movie\\'s faults creating a poetic meditation for the audience . \\nwalking out of the theater you feel like you have awakened from a transcendental experience . \\nmartin scorsese , known for his dark tales of the underworld ( \" goodfellas \" , \" taxi driver \" , \" casino \" ) has shifted gears . \\nsomething of a thematic follow-up to his \" the last temptation of christ \" , this is his slowest film yet . \\noddly enough for a director with a history of graphic violence presenting a history filled with atrocities by the chinese , most of these events take place off-screen . \\nhis decision to not over-explain rituals is commendable . \\nthe stumbling oracle who spits out his prophecies while in a trance state is much more effective as a mystery than if we were spoon-fed interpretations . \\nphilip glass\\'s score is impressive although at times it is too overwhelming and distracting . \\ni talked to a tibetan i met outside the theater who had just seen the film and was walking back in to see it again . \\nhearing his description of how he escaped from tibet at the age of seven and how his father was one of the soldiers accompanying the dalai lama during his trip to india , i was struck by what was missing in the movie . \\nas grand as it looks and as historically accurate as it is , there is a distance between the audience and the movie . \\nthe film is more concerned with visuals and history and less so with human beings . \\nwith the exception of a few scenes , involvement with the characters is slight . \\none of those exceptions is the portrayal of the young dalai lama , shown as a mischievous boy who can\\'t resist being a kid sometimes . \\nan encounter with his older brother thubten j . norbu ( a retired indiana university professor ) who tells the young leader the chinese have ordered him to persuade him to accept communist rule or kill him is an outstanding moment , but there aren\\'t many of these . \\neven with its problems , the \" kundun \" experience is phenomenal , but one that i fear most will miss . \\nmany people who saw \" seven years in tibet \" will have a \" been there , done that \" attitude . \\nit\\'s likely that the film will miss a wide-spread appeal and public response will be the sound of one hand clapping . \\n'\n",
            "Label : 0 (txt_sentoken)\n",
            "Review: b'in \" the 13th warrior , \" arab poet ahmed ibn fahdlan ( antonio banderas ) finds himself kicked out of baghdad for feeling up the king\\'s old lady . \\nwith his translator ( screen legend omar sharif in a small role ) , ahmed heads north to act as ambassador to the northmen ( vikings ) . \\nhe finds a group of warriors mourning the loss of their king . \\na messenger soon arrives from another kingdom requesting assistance . \\na soothsayer says that thirteen warriors must answer the summons , twelve northmen and one outsider . \\nthus , ahmed becomes the \" 13th warrior . \" \\non the trip , ahmed manages to learn the vikings\\' language by listening to their fireside conversations . \\na bit far-fetched , it\\'s true , but we have to swallow it if this flick is going to manage a few lines of dialogue amidst the grunting . \\nahmed , who\\'s called \" ibn \" by the vikings , forms friendships with herger the joyous ( dennis storh ? i ) and the viking leader buliwyf ( vladimir kulich ) . \\nwhen they arrive in the other kingdom , the thirteen warriors discover that they\\'re facing an army of supernatural cannibals that live up in the caves . \\nhereafter , most of the movie is battle scenes : the cannibals attack the vikings , the vikings attack the cannibals , the cannibals attack the . \\n . \\n . \\nwell , you get the idea . \\njust to add some action , there\\'s also a viking vs . viking duel . \\nother movies insert scenes between the fights ; these scenes are called character development . \\ni suspect that \" the 13th warrior \" had a better script at one time and that it fell through the cracks because of the tag-team direction . \\nthe movie started off in the hands of john mctiernan ( you\\'ll notice a lot of similarities between \" warrior \" and mctiernan\\'s \" predator , \" including the chittering jungle sounds ) . \\nsomewhere along the line , mctiernan bailed and michael crichton took over . \\ncrichton , whose novel \" eaters of the dead \" is the basis for \" warrior , \" has directed a small assortment of goofy science-fiction \" thrillers \" : \" westworld , \" \" coma , \" \" looker , \" \" runaway . \" \\ntheir result of their consecutive efforts is a murky and pointless movie . \\nperhaps what \" the 13th warrior \" needs more than anything else is a villain . \\nthe \" eaters of the dead \" are a faceless mob in blackface . \\nthey have no personality , and by the end they don\\'t even seem particularly threatening . \\nthe audience has no target toward which to channel its aggression . \\nmctiernan should know about the importance of an interesting villain ; it was his \" die hard \" that made villains seem fun and attracted big-name stars to the evil roles in action films . \\n \" the 13th warrior \" suffers from a lack of vision . \\nit wants to be \" predator \" meets \" braveheart \" meets \" the magnificent seven \" meets \" dances with wolves . \" \\nwith so many competing goals , all it can do is echo what it might have been . \\nit might have been a satisfying action film . \\nit might have been a beautifully-rendered medieval epic . \\nit might have been a thought-provoking examination of the meeting of cultures . \\nwhat a shame it turned out to be nothing in particular . \\nbottom line : if you want to see antonio swing his sword , rent \" the mask of zorro . \" \\n'\n",
            "Label : 0 (txt_sentoken)\n",
            "Review: b' \" ladybugs \" is a typical comedy that relies on three supposed guarantees : the pathetic team who beats the champs ; cross dressing ; and the presence of rodney dangerfield . \\nthis picture doesn\\'t play like a comedy for children , so who is it aimed at ? \\nand why is it told like a 91-minute sit-com instead of a feature film ? \\nrodney dangerfield stars as chester lee , a total schmuck working at a huge corporation . \\nhe obviously doesn\\'t have a lot of self esteem and thinks he has to kiss up to get ahead , which he does by volunteering to coach the company\\'s girls\\' soccer team . \\nwhat a shock to learn chester and his assistant julie ( jackee ) know absolutely nothing about the game , and the players seem to know even less . \\ni didn\\'t laugh , but for some reason it didn\\'t annoy me that much . \\nchester\\'s fiancee bess ( graff ) thinks he got a promotion in addition to the coaching position , and of course she has a slacker for a son who is doing poorly in school and is kicked off the sports teams . \\njonathon brandis is a nice surprise as matthew , who agrees to dress up as a girl named martha to help out chester ( probably because the girl he has a crush on plays on the team - what original story ideas ! ) . \\nwhat we get is just another retread of the \" underdog sports team \" mixed with some cross dressing . \\nunfortunately , the film isn\\'t smart enough to play upon the drag aspect . \\nin fact , it downplays it so heavily it\\'s totally unbelievable . \\ncould it be any more obvious martha is a boy ? \\nhe only wears a girl\\'s wig , without any makeup , and they don\\'t even give him falsies . \\nbrandis doesn\\'t bother to mimic a girl\\'s voice either . \\nthen there is a pointless scene where chester and matthew shop for a dress , but for what reason ? \\nmartha is only seen on the soccer field , why would they buy a dress for her ? \\njust when we think the martha character is going to be useful , she disappears , and the story wanders aimlessly looking for a new plot to pick up on . \\nwhen bess discovers what\\'s really going on she breaks up with chester , and the relationship is forgotten about and the film focuses on the soccer team and the tension between chester and his boss . \\nthis film could\\'ve been less bad had it been the cliche sports comedy , but it feels the need to go off on tangents that are completely unnecessary ( and bad at that ) . \\nthere\\'s just too much of a sit-com feel here , especially during the so-called serious moments , and all the confusion between the characters . \\ni\\'ve seen worse movies than \" ladybugs , \" but for some reason it contained some sort of bizarre charm , so even when it turns sour it doesn\\'t seem as bad as it is . \\ndangerfield finally gets his respect in the end , but at what a price . \\n'\n",
            "Label : 0 (txt_sentoken)\n"
          ]
        }
      ],
      "source": [
        "for text_batch, label_batch in train_ds.take(1):\n",
        "  for i in range(3):\n",
        "    print(f'Review: {text_batch.numpy()[i]}')\n",
        "    label = label_batch.numpy()[i]\n",
        "    print(f'Label : {label} ({class_names[label]})')"
      ]
    },
    {
      "cell_type": "markdown",
      "metadata": {
        "id": "qV2YT7RiIare"
      },
      "source": [
        "BERT"
      ]
    },
    {
      "cell_type": "code",
      "execution_count": null,
      "metadata": {
        "id": "j9XQ3iE4IXIE"
      },
      "outputs": [],
      "source": [
        "tfhub_handle_preprocess = hub.KerasLayer(\"https://tfhub.dev/tensorflow/bert_en_uncased_preprocess/3\")\n",
        "tfhub_handle_encoder = hub.KerasLayer(\"https://tfhub.dev/tensorflow/bert_en_uncased_L-12_H-768_A-12/4\")\n",
        "\n",
        "bert_preprocess_model = hub.KerasLayer(tfhub_handle_preprocess)"
      ]
    },
    {
      "cell_type": "code",
      "execution_count": null,
      "metadata": {
        "colab": {
          "base_uri": "https://localhost:8080/"
        },
        "id": "qqbbgTfK9Sfz",
        "outputId": "996d9a8d-fcb8-408d-f212-025571d7684d"
      },
      "outputs": [
        {
          "name": "stdout",
          "output_type": "stream",
          "text": [
            "Keys       : ['input_word_ids', 'input_type_ids', 'input_mask']\n",
            "Shape      : (1, 128)\n",
            "Word Ids   : [ 101 2023 2003 2107 2019 6429 3185  999  102    0    0    0]\n",
            "Input Mask : [1 1 1 1 1 1 1 1 1 0 0 0]\n",
            "Type Ids   : [0 0 0 0 0 0 0 0 0 0 0 0]\n"
          ]
        }
      ],
      "source": [
        "text_test = ['this is such an amazing movie!']\n",
        "text_preprocessed = bert_preprocess_model(text_test)\n",
        "\n",
        "print(f'Keys       : {list(text_preprocessed.keys())}')\n",
        "print(f'Shape      : {text_preprocessed[\"input_word_ids\"].shape}')\n",
        "print(f'Word Ids   : {text_preprocessed[\"input_word_ids\"][0, :12]}')\n",
        "print(f'Input Mask : {text_preprocessed[\"input_mask\"][0, :12]}')\n",
        "print(f'Type Ids   : {text_preprocessed[\"input_type_ids\"][0, :12]}')"
      ]
    },
    {
      "cell_type": "code",
      "execution_count": null,
      "metadata": {
        "id": "PaPmjAcU9Z-2"
      },
      "outputs": [],
      "source": [
        "bert_model = hub.KerasLayer(tfhub_handle_encoder)"
      ]
    },
    {
      "cell_type": "code",
      "execution_count": null,
      "metadata": {
        "colab": {
          "base_uri": "https://localhost:8080/"
        },
        "id": "DEP0SDh59fEZ",
        "outputId": "b5bf1a85-5fe8-4efe-ff67-ee51aac6d674"
      },
      "outputs": [
        {
          "name": "stdout",
          "output_type": "stream",
          "text": [
            "Loaded BERT: <tensorflow_hub.keras_layer.KerasLayer object at 0x7f0d723edf50>\n",
            "Pooled Outputs Shape:(1, 768)\n",
            "Pooled Outputs Values:[-0.92169875 -0.3935344  -0.5393166   0.6825622   0.43848413 -0.14021155\n",
            "  0.8774711   0.2604335  -0.63112926 -0.9999658  -0.2631998   0.8510528 ]\n",
            "Sequence Outputs Shape:(1, 128, 768)\n",
            "Sequence Outputs Values:[[ 0.19451553  0.25141686  0.19075039 ... -0.24845105  0.38568538\n",
            "   0.13291036]\n",
            " [-0.5947863  -0.3942036   0.2524563  ... -0.7694673   1.1564169\n",
            "   0.32475716]\n",
            " [ 0.00641508 -0.15766457  0.5461022  ... -0.17451054  0.6028961\n",
            "   0.42672238]\n",
            " ...\n",
            " [ 0.21948323 -0.20927078  0.53868306 ...  0.24693573  0.18250985\n",
            "  -0.4442707 ]\n",
            " [ 0.01080235 -0.44553167  0.35990986 ...  0.31722772  0.23562811\n",
            "  -0.63070565]\n",
            " [ 0.29321152 -0.10581909  0.6114754  ...  0.20745839  0.1449465\n",
            "  -0.35353357]]\n"
          ]
        }
      ],
      "source": [
        "bert_results = bert_model(text_preprocessed)\n",
        "\n",
        "print(f'Loaded BERT: {tfhub_handle_encoder}')\n",
        "print(f'Pooled Outputs Shape:{bert_results[\"pooled_output\"].shape}')\n",
        "print(f'Pooled Outputs Values:{bert_results[\"pooled_output\"][0, :12]}')\n",
        "print(f'Sequence Outputs Shape:{bert_results[\"sequence_output\"].shape}')\n",
        "print(f'Sequence Outputs Values:{bert_results[\"sequence_output\"][0, :12]}')"
      ]
    },
    {
      "cell_type": "code",
      "execution_count": null,
      "metadata": {
        "id": "zWGro60t9hHF"
      },
      "outputs": [],
      "source": [
        "def build_classifier_model():\n",
        "  text_input = tf.keras.layers.Input(shape=(), dtype=tf.string, name='text')\n",
        "  preprocessing_layer = hub.KerasLayer(tfhub_handle_preprocess, name='preprocessing')\n",
        "  encoder_inputs = preprocessing_layer(text_input)\n",
        "  encoder = hub.KerasLayer(tfhub_handle_encoder, trainable=True, name='BERT_encoder')\n",
        "  outputs = encoder(encoder_inputs)\n",
        "  net = outputs['pooled_output']\n",
        "  net = tf.keras.layers.Dropout(0.1)(net)\n",
        "  net = tf.keras.layers.Dense(1, activation=None, name='classifier')(net)\n",
        "  return tf.keras.Model(text_input, net)"
      ]
    },
    {
      "cell_type": "code",
      "execution_count": null,
      "metadata": {
        "colab": {
          "base_uri": "https://localhost:8080/"
        },
        "id": "-Pz3wtrX9phB",
        "outputId": "9d2bdbda-f5ba-4b3a-f955-759b0861e130"
      },
      "outputs": [
        {
          "name": "stderr",
          "output_type": "stream",
          "text": [
            "ERROR:absl:hub.KerasLayer is trainable but has zero trainable weights.\n"
          ]
        },
        {
          "name": "stdout",
          "output_type": "stream",
          "text": [
            "tf.Tensor([[0.25279504]], shape=(1, 1), dtype=float32)\n"
          ]
        }
      ],
      "source": [
        "classifier_model = build_classifier_model()\n",
        "bert_raw_result = classifier_model(tf.constant(text_test))\n",
        "print(tf.sigmoid(bert_raw_result))"
      ]
    },
    {
      "cell_type": "code",
      "execution_count": null,
      "metadata": {
        "colab": {
          "base_uri": "https://localhost:8080/",
          "height": 466
        },
        "id": "7ridKizH9tkr",
        "outputId": "5e46d44b-9ced-4fd5-f084-bae81555ef69"
      },
      "outputs": [
        {
          "data": {
            "image/png": "[encoded data removed]",
            "text/plain": [
              "<IPython.core.display.Image object>"
            ]
          },
          "execution_count": 46,
          "metadata": {},
          "output_type": "execute_result"
        }
      ],
      "source": [
        "tf.keras.utils.plot_model(classifier_model)\n"
      ]
    },
    {
      "cell_type": "markdown",
      "metadata": {
        "id": "GAw7itYKI2sE"
      },
      "source": [
        "Train Model"
      ]
    },
    {
      "cell_type": "code",
      "execution_count": null,
      "metadata": {
        "id": "U1zblIQQ9339"
      },
      "outputs": [],
      "source": [
        "loss = tf.keras.losses.BinaryCrossentropy(from_logits=True)\n",
        "metrics = tf.metrics.BinaryAccuracy()"
      ]
    },
    {
      "cell_type": "code",
      "execution_count": null,
      "metadata": {
        "id": "gxZtg-bD98J6"
      },
      "outputs": [],
      "source": [
        "epochs = 15\n",
        "steps_per_epoch = tf.data.experimental.cardinality(train_ds).numpy()\n",
        "num_train_steps = steps_per_epoch * epochs\n",
        "num_warmup_steps = int(0.1*num_train_steps)\n",
        "\n",
        "init_lr = 3e-5\n",
        "optimizer = optimization.create_optimizer(init_lr=init_lr,\n",
        "                                          num_train_steps=num_train_steps,\n",
        "                                          num_warmup_steps=num_warmup_steps,\n",
        "                                          optimizer_type='adamw')"
      ]
    },
    {
      "cell_type": "code",
      "execution_count": null,
      "metadata": {
        "id": "_GR1qNIJ-A4g"
      },
      "outputs": [],
      "source": [
        "classifier_model.compile(optimizer=optimizer,\n",
        "                         loss=loss,\n",
        "                         metrics=metrics)"
      ]
    },
    {
      "cell_type": "code",
      "execution_count": null,
      "metadata": {
        "colab": {
          "background_save": true,
          "base_uri": "https://localhost:8080/"
        },
        "id": "yTP01NQqI0_1",
        "outputId": "1a800ac0-c5b0-41cc-8d10-5c027222e341"
      },
      "outputs": [
        {
          "name": "stdout",
          "output_type": "stream",
          "text": [
            "Training model with <tensorflow_hub.keras_layer.KerasLayer object at 0x7f0d723edf50>\n",
            "Epoch 1/15\n",
            "50/50 [==============================] - 887s 18s/step - loss: 0.7398 - binary_accuracy: 0.8494 - val_loss: 0.6683 - val_binary_accuracy: 0.9550\n",
            "Epoch 2/15\n",
            "50/50 [==============================] - 867s 17s/step - loss: 0.5891 - binary_accuracy: 0.9525 - val_loss: 0.4799 - val_binary_accuracy: 0.9975\n",
            "Epoch 3/15\n",
            "50/50 [==============================] - 864s 17s/step - loss: 0.4152 - binary_accuracy: 0.9925 - val_loss: 0.3433 - val_binary_accuracy: 0.9950\n",
            "Epoch 4/15\n",
            "50/50 [==============================] - 864s 17s/step - loss: 0.2976 - binary_accuracy: 0.9975 - val_loss: 0.2520 - val_binary_accuracy: 0.9900\n",
            "Epoch 5/15\n",
            "50/50 [==============================] - 866s 17s/step - loss: 0.2207 - binary_accuracy: 0.9962 - val_loss: 0.1915 - val_binary_accuracy: 0.9875\n",
            "Epoch 6/15\n",
            "50/50 [==============================] - 861s 17s/step - loss: 0.1722 - binary_accuracy: 0.9931 - val_loss: 0.1509 - val_binary_accuracy: 0.9875\n",
            "Epoch 7/15\n",
            "50/50 [==============================] - 865s 17s/step - loss: 0.1331 - binary_accuracy: 0.9956 - val_loss: 0.1234 - val_binary_accuracy: 0.9900\n",
            "Epoch 8/15\n",
            "50/50 [==============================] - 870s 17s/step - loss: 0.1100 - binary_accuracy: 0.9962 - val_loss: 0.1043 - val_binary_accuracy: 0.9900\n",
            "Epoch 9/15\n",
            "50/50 [==============================] - 867s 17s/step - loss: 0.0931 - binary_accuracy: 0.9950 - val_loss: 0.0910 - val_binary_accuracy: 0.9900\n",
            "Epoch 10/15\n",
            "50/50 [==============================] - 864s 17s/step - loss: 0.0823 - binary_accuracy: 0.9969 - val_loss: 0.0821 - val_binary_accuracy: 0.9900\n",
            "Epoch 11/15\n",
            "50/50 [==============================] - 864s 17s/step - loss: 0.0746 - binary_accuracy: 0.9969 - val_loss: 0.0762 - val_binary_accuracy: 0.9900\n",
            "Epoch 12/15\n",
            "50/50 [==============================] - 863s 17s/step - loss: 0.0692 - binary_accuracy: 0.9975 - val_loss: 0.0722 - val_binary_accuracy: 0.9925\n",
            "Epoch 13/15\n",
            "50/50 [==============================] - 860s 17s/step - loss: 0.0659 - binary_accuracy: 0.9975 - val_loss: 0.0696 - val_binary_accuracy: 0.9925\n",
            "Epoch 14/15\n",
            "50/50 [==============================] - 862s 17s/step - loss: 0.0641 - binary_accuracy: 0.9962 - val_loss: 0.0681 - val_binary_accuracy: 0.9925\n",
            "Epoch 15/15\n",
            "50/50 [==============================] - 861s 17s/step - loss: 0.0646 - binary_accuracy: 0.9969 - val_loss: 0.0676 - val_binary_accuracy: 0.9925\n"
          ]
        }
      ],
      "source": [
        "print(f'Training model with {tfhub_handle_encoder}')\n",
        "history = classifier_model.fit(x=train_ds,\n",
        "                               validation_data=val_ds,\n",
        "                               epochs=epochs)"
      ]
    },
    {
      "cell_type": "markdown",
      "metadata": {
        "id": "xzk7iDzQJAYe"
      },
      "source": [
        "Evaluate"
      ]
    },
    {
      "cell_type": "code",
      "execution_count": null,
      "metadata": {
        "colab": {
          "background_save": true,
          "base_uri": "https://localhost:8080/"
        },
        "id": "CuylftW3I60d",
        "outputId": "290b81e1-d73d-4531-8c42-4e77866198ad"
      },
      "outputs": [
        {
          "name": "stdout",
          "output_type": "stream",
          "text": [
            "63/63 [==============================] - 874s 14s/step - loss: 0.0627 - binary_accuracy: 0.9965\n",
            "Loss: 0.06266913563013077\n",
            "Accuracy: 0.9965000152587891\n"
          ]
        }
      ],
      "source": [
        "loss, accuracy = classifier_model.evaluate(test_ds)\n",
        "\n",
        "print(f'Loss: {loss}')\n",
        "print(f'Accuracy: {accuracy}')"
      ]
    }
  ],
  "metadata": {
    "colab": {
      "provenance": []
    },
    "kernelspec": {
      "display_name": "Python 3",
      "name": "python3"
    },
    "language_info": {
      "name": "python"
    }
  },
  "nbformat": 4,
  "nbformat_minor": 0
}